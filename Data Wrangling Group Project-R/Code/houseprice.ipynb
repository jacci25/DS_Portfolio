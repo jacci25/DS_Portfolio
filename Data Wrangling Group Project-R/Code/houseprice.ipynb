{
 "cells": [
  {
   "cell_type": "code",
   "execution_count": 1,
   "id": "4f53d48e-63f1-4988-aa47-22a707e6b791",
   "metadata": {
    "tags": []
   },
   "outputs": [
    {
     "name": "stderr",
     "output_type": "stream",
     "text": [
      "\u001b[33m\u001b[1m┌ \u001b[22m\u001b[39m\u001b[33m\u001b[1mWarning: \u001b[22m\u001b[39mcould not download https://pkg.julialang.org/registries\n",
      "\u001b[33m\u001b[1m│ \u001b[22m\u001b[39m  exception = RequestError: HTTP/1.1 502 Bad Gateway while requesting https://pkg.julialang.org/registries\n",
      "\u001b[33m\u001b[1m└ \u001b[22m\u001b[39m\u001b[90m@ Pkg.Registry C:\\Users\\Sarah Haras\\AppData\\Local\\Programs\\Julia-1.9.2\\share\\julia\\stdlib\\v1.9\\Pkg\\src\\Registry\\Registry.jl:69\u001b[39m\n",
      "\u001b[32m\u001b[1m    Updating\u001b[22m\u001b[39m registry at `C:\\Users\\Sarah Haras\\.julia\\registries\\General.toml`\n",
      "\u001b[32m\u001b[1m   Resolving\u001b[22m\u001b[39m package versions...\n",
      "\u001b[32m\u001b[1m  No Changes\u001b[22m\u001b[39m to `C:\\Users\\Sarah Haras\\.julia\\environments\\v1.9\\Project.toml`\n",
      "\u001b[32m\u001b[1m  No Changes\u001b[22m\u001b[39m to `C:\\Users\\Sarah Haras\\.julia\\environments\\v1.9\\Manifest.toml`\n",
      "\u001b[32m\u001b[1m   Resolving\u001b[22m\u001b[39m package versions...\n",
      "\u001b[32m\u001b[1m  No Changes\u001b[22m\u001b[39m to `C:\\Users\\Sarah Haras\\.julia\\environments\\v1.9\\Project.toml`\n",
      "\u001b[32m\u001b[1m  No Changes\u001b[22m\u001b[39m to `C:\\Users\\Sarah Haras\\.julia\\environments\\v1.9\\Manifest.toml`\n",
      "\u001b[32m\u001b[1m   Resolving\u001b[22m\u001b[39m package versions...\n",
      "\u001b[32m\u001b[1m  No Changes\u001b[22m\u001b[39m to `C:\\Users\\Sarah Haras\\.julia\\environments\\v1.9\\Project.toml`\n",
      "\u001b[32m\u001b[1m  No Changes\u001b[22m\u001b[39m to `C:\\Users\\Sarah Haras\\.julia\\environments\\v1.9\\Manifest.toml`\n"
     ]
    }
   ],
   "source": [
    "# add and load the required Julia packages\n",
    "using Pkg\n",
    "Pkg.add(\"HTTP\")\n",
    "Pkg.add(\"CSV\")\n",
    "Pkg.add(\"DataFrames\")"
   ]
  },
  {
   "cell_type": "code",
   "execution_count": 2,
   "id": "24f01e18-6f4e-49d7-86d5-c894d7a12cd9",
   "metadata": {
    "tags": []
   },
   "outputs": [],
   "source": [
    "# load the added packages\n",
    "using HTTP,CSV,DataFrames"
   ]
  },
  {
   "cell_type": "code",
   "execution_count": 3,
   "id": "f928972d-4edd-438e-b823-32b239aa1dfe",
   "metadata": {
    "tags": []
   },
   "outputs": [
    {
     "data": {
      "text/plain": [
       "\"Location,Location (Look up Value),Price,12,11,10,9,8,7,6,5,4,3,2,1,0,Annual Price Change (%),Annual Price Change (\\$),Annual Price Change\\r\\nNew Zealand,NZL,907415,1004648,987887,973188,963083,956434,955540,948012,942820,932234,926636,920722,910221,907415,-9.68%,-97233,-\\$9\" ⋯ 13882 bytes ⋯ \"48,757\\\",\\\"457,590\\\",\\\"456,153\\\",-3.63%,\\\"-17,195\\\",-\\$17.2K ^-3.63%^\\r\\nSouthland District,Southland District,\\\"492,354\\\",\\\"483,764\\\",\\\"482,095\\\",\\\"485,091\\\",\\\"493,102\\\",\\\"492,636\\\",\\\"492,955\\\",\\\"480,730\\\",\\\"481,567\\\",\\\"477,407\\\",\\\"483,783\\\",\\\"484,497\\\",\\\"497,576\\\",\\\"492,354\\\",1.78%,\\\"8,590\\\",+\\$8.6K ^1.78%^\""
      ]
     },
     "execution_count": 3,
     "metadata": {},
     "output_type": "execute_result"
    }
   ],
   "source": [
    "# Send an HTTP GET request to the specified URL\n",
    "resp = HTTP.request(\"GET\", \"https://static.dwcdn.net/data/cSFED.csv?v=1696373100000\")\n",
    "\n",
    "# Convert the response body (which is in binary format) to a string\n",
    "data = String(resp.body)\n",
    "\n"
   ]
  },
  {
   "cell_type": "code",
   "execution_count": 4,
   "id": "9d31db3c-29f7-44dc-a371-dd786fb4e414",
   "metadata": {
    "tags": []
   },
   "outputs": [
    {
     "data": {
      "text/html": [
       "<div><div style = \"float: left;\"><span>67×2 DataFrame</span></div><div style = \"float: right;\"><span style = \"font-style: italic;\">42 rows omitted</span></div><div style = \"clear: both;\"></div></div><div class = \"data-frame\" style = \"overflow-x: scroll;\"><table class = \"data-frame\" style = \"margin-bottom: 6px;\"><thead><tr class = \"header\"><th class = \"rowNumber\" style = \"font-weight: bold; text-align: right;\">Row</th><th style = \"text-align: left;\">Location</th><th style = \"text-align: left;\">Price</th></tr><tr class = \"subheader headerLastRow\"><th class = \"rowNumber\" style = \"font-weight: bold; text-align: right;\"></th><th title = \"String\" style = \"text-align: left;\">String</th><th title = \"String\" style = \"text-align: left;\">String</th></tr></thead><tbody><tr><td class = \"rowNumber\" style = \"font-weight: bold; text-align: right;\">1</td><td style = \"text-align: left;\">New Zealand</td><td style = \"text-align: left;\">907415</td></tr><tr><td class = \"rowNumber\" style = \"font-weight: bold; text-align: right;\">2</td><td style = \"text-align: left;\">Far North District</td><td style = \"text-align: left;\">700,402</td></tr><tr><td class = \"rowNumber\" style = \"font-weight: bold; text-align: right;\">3</td><td style = \"text-align: left;\">Whangarei District</td><td style = \"text-align: left;\">736,658</td></tr><tr><td class = \"rowNumber\" style = \"font-weight: bold; text-align: right;\">4</td><td style = \"text-align: left;\">Kaipara District</td><td style = \"text-align: left;\">818,262</td></tr><tr><td class = \"rowNumber\" style = \"font-weight: bold; text-align: right;\">5</td><td style = \"text-align: left;\">Auckland</td><td style = \"text-align: left;\">1,259,185</td></tr><tr><td class = \"rowNumber\" style = \"font-weight: bold; text-align: right;\">6</td><td style = \"text-align: left;\">Thames-Coromandel District</td><td style = \"text-align: left;\">1,157,623</td></tr><tr><td class = \"rowNumber\" style = \"font-weight: bold; text-align: right;\">7</td><td style = \"text-align: left;\">Hauraki District</td><td style = \"text-align: left;\">631,049</td></tr><tr><td class = \"rowNumber\" style = \"font-weight: bold; text-align: right;\">8</td><td style = \"text-align: left;\">Hamilton City</td><td style = \"text-align: left;\">800,437</td></tr><tr><td class = \"rowNumber\" style = \"font-weight: bold; text-align: right;\">9</td><td style = \"text-align: left;\">Matamata-Piako District</td><td style = \"text-align: left;\">704,001</td></tr><tr><td class = \"rowNumber\" style = \"font-weight: bold; text-align: right;\">10</td><td style = \"text-align: left;\">Otorohanga District</td><td style = \"text-align: left;\">519,134</td></tr><tr><td class = \"rowNumber\" style = \"font-weight: bold; text-align: right;\">11</td><td style = \"text-align: left;\">South Waikato District</td><td style = \"text-align: left;\">426,624</td></tr><tr><td class = \"rowNumber\" style = \"font-weight: bold; text-align: right;\">12</td><td style = \"text-align: left;\">Taupo District</td><td style = \"text-align: left;\">829,769</td></tr><tr><td class = \"rowNumber\" style = \"font-weight: bold; text-align: right;\">13</td><td style = \"text-align: left;\">Waikato District</td><td style = \"text-align: left;\">726,521</td></tr><tr><td style = \"text-align: right;\">&vellip;</td><td style = \"text-align: right;\">&vellip;</td><td style = \"text-align: right;\">&vellip;</td></tr><tr><td class = \"rowNumber\" style = \"font-weight: bold; text-align: right;\">56</td><td style = \"text-align: left;\">Ashburton District</td><td style = \"text-align: left;\">532,157</td></tr><tr><td class = \"rowNumber\" style = \"font-weight: bold; text-align: right;\">57</td><td style = \"text-align: left;\">Timaru District</td><td style = \"text-align: left;\">500,787</td></tr><tr><td class = \"rowNumber\" style = \"font-weight: bold; text-align: right;\">58</td><td style = \"text-align: left;\">Waimakariri District</td><td style = \"text-align: left;\">697,534</td></tr><tr><td class = \"rowNumber\" style = \"font-weight: bold; text-align: right;\">59</td><td style = \"text-align: left;\">Waimate District</td><td style = \"text-align: left;\">442,382</td></tr><tr><td class = \"rowNumber\" style = \"font-weight: bold; text-align: right;\">60</td><td style = \"text-align: left;\">Waitaki District</td><td style = \"text-align: left;\">467,713</td></tr><tr><td class = \"rowNumber\" style = \"font-weight: bold; text-align: right;\">61</td><td style = \"text-align: left;\">Dunedin City</td><td style = \"text-align: left;\">616,117</td></tr><tr><td class = \"rowNumber\" style = \"font-weight: bold; text-align: right;\">62</td><td style = \"text-align: left;\">Central Otago District</td><td style = \"text-align: left;\">788,144</td></tr><tr><td class = \"rowNumber\" style = \"font-weight: bold; text-align: right;\">63</td><td style = \"text-align: left;\">Clutha District</td><td style = \"text-align: left;\">392,835</td></tr><tr><td class = \"rowNumber\" style = \"font-weight: bold; text-align: right;\">64</td><td style = \"text-align: left;\">Queenstown-Lakes District</td><td style = \"text-align: left;\">1,670,801</td></tr><tr><td class = \"rowNumber\" style = \"font-weight: bold; text-align: right;\">65</td><td style = \"text-align: left;\">Gore District</td><td style = \"text-align: left;\">395,015</td></tr><tr><td class = \"rowNumber\" style = \"font-weight: bold; text-align: right;\">66</td><td style = \"text-align: left;\">Invercargill City</td><td style = \"text-align: left;\">456,153</td></tr><tr><td class = \"rowNumber\" style = \"font-weight: bold; text-align: right;\">67</td><td style = \"text-align: left;\">Southland District</td><td style = \"text-align: left;\">492,354</td></tr></tbody></table></div>"
      ],
      "text/latex": [
       "\\begin{tabular}{r|cc}\n",
       "\t& Location & Price\\\\\n",
       "\t\\hline\n",
       "\t& String & String\\\\\n",
       "\t\\hline\n",
       "\t1 & New Zealand & 907415 \\\\\n",
       "\t2 & Far North District & 700,402 \\\\\n",
       "\t3 & Whangarei District & 736,658 \\\\\n",
       "\t4 & Kaipara District & 818,262 \\\\\n",
       "\t5 & Auckland & 1,259,185 \\\\\n",
       "\t6 & Thames-Coromandel District & 1,157,623 \\\\\n",
       "\t7 & Hauraki District & 631,049 \\\\\n",
       "\t8 & Hamilton City & 800,437 \\\\\n",
       "\t9 & Matamata-Piako District & 704,001 \\\\\n",
       "\t10 & Otorohanga District & 519,134 \\\\\n",
       "\t11 & South Waikato District & 426,624 \\\\\n",
       "\t12 & Taupo District & 829,769 \\\\\n",
       "\t13 & Waikato District & 726,521 \\\\\n",
       "\t14 & Waipa District & 871,229 \\\\\n",
       "\t15 & Waitomo District & 398,629 \\\\\n",
       "\t16 & Kawerau District & 389,679 \\\\\n",
       "\t17 & Opotiki District & 538,485 \\\\\n",
       "\t18 & Rotorua District & 638,234 \\\\\n",
       "\t19 & Tauranga City & 1,017,984 \\\\\n",
       "\t20 & Western Bay of Plenty District & 976,065 \\\\\n",
       "\t21 & Whakatane District & 728,386 \\\\\n",
       "\t22 & Gisborne District & 589,585 \\\\\n",
       "\t23 & Central Hawke's Bay District & 588,040 \\\\\n",
       "\t24 & Hastings District & 765,170 \\\\\n",
       "\t25 & Napier City & 741,618 \\\\\n",
       "\t26 & Wairoa District & 417,440 \\\\\n",
       "\t27 & New Plymouth District & 714,371 \\\\\n",
       "\t28 & South Taranaki District & 437,608 \\\\\n",
       "\t29 & Stratford District & 471,430 \\\\\n",
       "\t30 & Horowhenua District & 551,960 \\\\\n",
       "\t$\\dots$ & $\\dots$ & $\\dots$ \\\\\n",
       "\\end{tabular}\n"
      ],
      "text/plain": [
       "\u001b[1m67×2 DataFrame\u001b[0m\n",
       "\u001b[1m Row \u001b[0m│\u001b[1m Location                   \u001b[0m\u001b[1m Price     \u001b[0m\n",
       "     │\u001b[90m String                     \u001b[0m\u001b[90m String    \u001b[0m\n",
       "─────┼───────────────────────────────────────\n",
       "   1 │ New Zealand                 907415\n",
       "   2 │ Far North District          700,402\n",
       "   3 │ Whangarei District          736,658\n",
       "   4 │ Kaipara District            818,262\n",
       "   5 │ Auckland                    1,259,185\n",
       "   6 │ Thames-Coromandel District  1,157,623\n",
       "   7 │ Hauraki District            631,049\n",
       "   8 │ Hamilton City               800,437\n",
       "   9 │ Matamata-Piako District     704,001\n",
       "  10 │ Otorohanga District         519,134\n",
       "  11 │ South Waikato District      426,624\n",
       "  ⋮  │             ⋮                   ⋮\n",
       "  58 │ Waimakariri District        697,534\n",
       "  59 │ Waimate District            442,382\n",
       "  60 │ Waitaki District            467,713\n",
       "  61 │ Dunedin City                616,117\n",
       "  62 │ Central Otago District      788,144\n",
       "  63 │ Clutha District             392,835\n",
       "  64 │ Queenstown-Lakes District   1,670,801\n",
       "  65 │ Gore District               395,015\n",
       "  66 │ Invercargill City           456,153\n",
       "  67 │ Southland District          492,354\n",
       "\u001b[36m                              46 rows omitted\u001b[0m"
      ]
     },
     "execution_count": 4,
     "metadata": {},
     "output_type": "execute_result"
    }
   ],
   "source": [
    "# read data from a CSV file (retrieved from the data variable) and store it in a DataFrame.\n",
    "df = CSV.File(IOBuffer(data); header=1) |> DataFrame\n",
    "\n",
    "# select the columns \"Location\" and \"Price\" from the DataFrame df\n",
    "houseprice = df[:, [:Location, :Price]]\n",
    "\n",
    "\n"
   ]
  },
  {
   "cell_type": "code",
   "execution_count": 5,
   "id": "5b049a25-b89b-4016-bd60-9f337b5f5b0f",
   "metadata": {
    "tags": []
   },
   "outputs": [
    {
     "data": {
      "text/html": [
       "<div><div style = \"float: left;\"><span>67×2 DataFrame</span></div><div style = \"float: right;\"><span style = \"font-style: italic;\">42 rows omitted</span></div><div style = \"clear: both;\"></div></div><div class = \"data-frame\" style = \"overflow-x: scroll;\"><table class = \"data-frame\" style = \"margin-bottom: 6px;\"><thead><tr class = \"header\"><th class = \"rowNumber\" style = \"font-weight: bold; text-align: right;\">Row</th><th style = \"text-align: left;\">Territorial_Authority</th><th style = \"text-align: left;\">Price</th></tr><tr class = \"subheader headerLastRow\"><th class = \"rowNumber\" style = \"font-weight: bold; text-align: right;\"></th><th title = \"String\" style = \"text-align: left;\">String</th><th title = \"String\" style = \"text-align: left;\">String</th></tr></thead><tbody><tr><td class = \"rowNumber\" style = \"font-weight: bold; text-align: right;\">1</td><td style = \"text-align: left;\">New Zealand</td><td style = \"text-align: left;\">907415</td></tr><tr><td class = \"rowNumber\" style = \"font-weight: bold; text-align: right;\">2</td><td style = \"text-align: left;\">Far North District</td><td style = \"text-align: left;\">700,402</td></tr><tr><td class = \"rowNumber\" style = \"font-weight: bold; text-align: right;\">3</td><td style = \"text-align: left;\">Whangarei District</td><td style = \"text-align: left;\">736,658</td></tr><tr><td class = \"rowNumber\" style = \"font-weight: bold; text-align: right;\">4</td><td style = \"text-align: left;\">Kaipara District</td><td style = \"text-align: left;\">818,262</td></tr><tr><td class = \"rowNumber\" style = \"font-weight: bold; text-align: right;\">5</td><td style = \"text-align: left;\">Auckland</td><td style = \"text-align: left;\">1,259,185</td></tr><tr><td class = \"rowNumber\" style = \"font-weight: bold; text-align: right;\">6</td><td style = \"text-align: left;\">Thames-Coromandel District</td><td style = \"text-align: left;\">1,157,623</td></tr><tr><td class = \"rowNumber\" style = \"font-weight: bold; text-align: right;\">7</td><td style = \"text-align: left;\">Hauraki District</td><td style = \"text-align: left;\">631,049</td></tr><tr><td class = \"rowNumber\" style = \"font-weight: bold; text-align: right;\">8</td><td style = \"text-align: left;\">Hamilton City</td><td style = \"text-align: left;\">800,437</td></tr><tr><td class = \"rowNumber\" style = \"font-weight: bold; text-align: right;\">9</td><td style = \"text-align: left;\">Matamata-Piako District</td><td style = \"text-align: left;\">704,001</td></tr><tr><td class = \"rowNumber\" style = \"font-weight: bold; text-align: right;\">10</td><td style = \"text-align: left;\">Otorohanga District</td><td style = \"text-align: left;\">519,134</td></tr><tr><td class = \"rowNumber\" style = \"font-weight: bold; text-align: right;\">11</td><td style = \"text-align: left;\">South Waikato District</td><td style = \"text-align: left;\">426,624</td></tr><tr><td class = \"rowNumber\" style = \"font-weight: bold; text-align: right;\">12</td><td style = \"text-align: left;\">Taupo District</td><td style = \"text-align: left;\">829,769</td></tr><tr><td class = \"rowNumber\" style = \"font-weight: bold; text-align: right;\">13</td><td style = \"text-align: left;\">Waikato District</td><td style = \"text-align: left;\">726,521</td></tr><tr><td style = \"text-align: right;\">&vellip;</td><td style = \"text-align: right;\">&vellip;</td><td style = \"text-align: right;\">&vellip;</td></tr><tr><td class = \"rowNumber\" style = \"font-weight: bold; text-align: right;\">56</td><td style = \"text-align: left;\">Ashburton District</td><td style = \"text-align: left;\">532,157</td></tr><tr><td class = \"rowNumber\" style = \"font-weight: bold; text-align: right;\">57</td><td style = \"text-align: left;\">Timaru District</td><td style = \"text-align: left;\">500,787</td></tr><tr><td class = \"rowNumber\" style = \"font-weight: bold; text-align: right;\">58</td><td style = \"text-align: left;\">Waimakariri District</td><td style = \"text-align: left;\">697,534</td></tr><tr><td class = \"rowNumber\" style = \"font-weight: bold; text-align: right;\">59</td><td style = \"text-align: left;\">Waimate District</td><td style = \"text-align: left;\">442,382</td></tr><tr><td class = \"rowNumber\" style = \"font-weight: bold; text-align: right;\">60</td><td style = \"text-align: left;\">Waitaki District</td><td style = \"text-align: left;\">467,713</td></tr><tr><td class = \"rowNumber\" style = \"font-weight: bold; text-align: right;\">61</td><td style = \"text-align: left;\">Dunedin City</td><td style = \"text-align: left;\">616,117</td></tr><tr><td class = \"rowNumber\" style = \"font-weight: bold; text-align: right;\">62</td><td style = \"text-align: left;\">Central Otago District</td><td style = \"text-align: left;\">788,144</td></tr><tr><td class = \"rowNumber\" style = \"font-weight: bold; text-align: right;\">63</td><td style = \"text-align: left;\">Clutha District</td><td style = \"text-align: left;\">392,835</td></tr><tr><td class = \"rowNumber\" style = \"font-weight: bold; text-align: right;\">64</td><td style = \"text-align: left;\">Queenstown-Lakes District</td><td style = \"text-align: left;\">1,670,801</td></tr><tr><td class = \"rowNumber\" style = \"font-weight: bold; text-align: right;\">65</td><td style = \"text-align: left;\">Gore District</td><td style = \"text-align: left;\">395,015</td></tr><tr><td class = \"rowNumber\" style = \"font-weight: bold; text-align: right;\">66</td><td style = \"text-align: left;\">Invercargill City</td><td style = \"text-align: left;\">456,153</td></tr><tr><td class = \"rowNumber\" style = \"font-weight: bold; text-align: right;\">67</td><td style = \"text-align: left;\">Southland District</td><td style = \"text-align: left;\">492,354</td></tr></tbody></table></div>"
      ],
      "text/latex": [
       "\\begin{tabular}{r|cc}\n",
       "\t& Territorial\\_Authority & Price\\\\\n",
       "\t\\hline\n",
       "\t& String & String\\\\\n",
       "\t\\hline\n",
       "\t1 & New Zealand & 907415 \\\\\n",
       "\t2 & Far North District & 700,402 \\\\\n",
       "\t3 & Whangarei District & 736,658 \\\\\n",
       "\t4 & Kaipara District & 818,262 \\\\\n",
       "\t5 & Auckland & 1,259,185 \\\\\n",
       "\t6 & Thames-Coromandel District & 1,157,623 \\\\\n",
       "\t7 & Hauraki District & 631,049 \\\\\n",
       "\t8 & Hamilton City & 800,437 \\\\\n",
       "\t9 & Matamata-Piako District & 704,001 \\\\\n",
       "\t10 & Otorohanga District & 519,134 \\\\\n",
       "\t11 & South Waikato District & 426,624 \\\\\n",
       "\t12 & Taupo District & 829,769 \\\\\n",
       "\t13 & Waikato District & 726,521 \\\\\n",
       "\t14 & Waipa District & 871,229 \\\\\n",
       "\t15 & Waitomo District & 398,629 \\\\\n",
       "\t16 & Kawerau District & 389,679 \\\\\n",
       "\t17 & Opotiki District & 538,485 \\\\\n",
       "\t18 & Rotorua District & 638,234 \\\\\n",
       "\t19 & Tauranga City & 1,017,984 \\\\\n",
       "\t20 & Western Bay of Plenty District & 976,065 \\\\\n",
       "\t21 & Whakatane District & 728,386 \\\\\n",
       "\t22 & Gisborne District & 589,585 \\\\\n",
       "\t23 & Central Hawke's Bay District & 588,040 \\\\\n",
       "\t24 & Hastings District & 765,170 \\\\\n",
       "\t25 & Napier City & 741,618 \\\\\n",
       "\t26 & Wairoa District & 417,440 \\\\\n",
       "\t27 & New Plymouth District & 714,371 \\\\\n",
       "\t28 & South Taranaki District & 437,608 \\\\\n",
       "\t29 & Stratford District & 471,430 \\\\\n",
       "\t30 & Horowhenua District & 551,960 \\\\\n",
       "\t$\\dots$ & $\\dots$ & $\\dots$ \\\\\n",
       "\\end{tabular}\n"
      ],
      "text/plain": [
       "\u001b[1m67×2 DataFrame\u001b[0m\n",
       "\u001b[1m Row \u001b[0m│\u001b[1m Territorial_Authority      \u001b[0m\u001b[1m Price     \u001b[0m\n",
       "     │\u001b[90m String                     \u001b[0m\u001b[90m String    \u001b[0m\n",
       "─────┼───────────────────────────────────────\n",
       "   1 │ New Zealand                 907415\n",
       "   2 │ Far North District          700,402\n",
       "   3 │ Whangarei District          736,658\n",
       "   4 │ Kaipara District            818,262\n",
       "   5 │ Auckland                    1,259,185\n",
       "   6 │ Thames-Coromandel District  1,157,623\n",
       "   7 │ Hauraki District            631,049\n",
       "   8 │ Hamilton City               800,437\n",
       "   9 │ Matamata-Piako District     704,001\n",
       "  10 │ Otorohanga District         519,134\n",
       "  11 │ South Waikato District      426,624\n",
       "  ⋮  │             ⋮                   ⋮\n",
       "  58 │ Waimakariri District        697,534\n",
       "  59 │ Waimate District            442,382\n",
       "  60 │ Waitaki District            467,713\n",
       "  61 │ Dunedin City                616,117\n",
       "  62 │ Central Otago District      788,144\n",
       "  63 │ Clutha District             392,835\n",
       "  64 │ Queenstown-Lakes District   1,670,801\n",
       "  65 │ Gore District               395,015\n",
       "  66 │ Invercargill City           456,153\n",
       "  67 │ Southland District          492,354\n",
       "\u001b[36m                              46 rows omitted\u001b[0m"
      ]
     },
     "execution_count": 5,
     "metadata": {},
     "output_type": "execute_result"
    }
   ],
   "source": [
    "# rename the \"Location\" column to \"Territorial_Authority\" in the houseprice DataFrame\n",
    "rename!(houseprice, :Location => :Territorial_Authority)"
   ]
  },
  {
   "cell_type": "code",
   "execution_count": 6,
   "id": "e334e382-2de5-44cf-80a3-87e70899ebc6",
   "metadata": {
    "tags": []
   },
   "outputs": [
    {
     "data": {
      "text/html": [
       "<div><div style = \"float: left;\"><span>66×2 DataFrame</span></div><div style = \"float: right;\"><span style = \"font-style: italic;\">41 rows omitted</span></div><div style = \"clear: both;\"></div></div><div class = \"data-frame\" style = \"overflow-x: scroll;\"><table class = \"data-frame\" style = \"margin-bottom: 6px;\"><thead><tr class = \"header\"><th class = \"rowNumber\" style = \"font-weight: bold; text-align: right;\">Row</th><th style = \"text-align: left;\">Territorial_Authority</th><th style = \"text-align: left;\">Price</th></tr><tr class = \"subheader headerLastRow\"><th class = \"rowNumber\" style = \"font-weight: bold; text-align: right;\"></th><th title = \"String\" style = \"text-align: left;\">String</th><th title = \"String\" style = \"text-align: left;\">String</th></tr></thead><tbody><tr><td class = \"rowNumber\" style = \"font-weight: bold; text-align: right;\">1</td><td style = \"text-align: left;\">Far North District</td><td style = \"text-align: left;\">700,402</td></tr><tr><td class = \"rowNumber\" style = \"font-weight: bold; text-align: right;\">2</td><td style = \"text-align: left;\">Whangarei District</td><td style = \"text-align: left;\">736,658</td></tr><tr><td class = \"rowNumber\" style = \"font-weight: bold; text-align: right;\">3</td><td style = \"text-align: left;\">Kaipara District</td><td style = \"text-align: left;\">818,262</td></tr><tr><td class = \"rowNumber\" style = \"font-weight: bold; text-align: right;\">4</td><td style = \"text-align: left;\">Auckland</td><td style = \"text-align: left;\">1,259,185</td></tr><tr><td class = \"rowNumber\" style = \"font-weight: bold; text-align: right;\">5</td><td style = \"text-align: left;\">Thames-Coromandel District</td><td style = \"text-align: left;\">1,157,623</td></tr><tr><td class = \"rowNumber\" style = \"font-weight: bold; text-align: right;\">6</td><td style = \"text-align: left;\">Hauraki District</td><td style = \"text-align: left;\">631,049</td></tr><tr><td class = \"rowNumber\" style = \"font-weight: bold; text-align: right;\">7</td><td style = \"text-align: left;\">Hamilton City</td><td style = \"text-align: left;\">800,437</td></tr><tr><td class = \"rowNumber\" style = \"font-weight: bold; text-align: right;\">8</td><td style = \"text-align: left;\">Matamata-Piako District</td><td style = \"text-align: left;\">704,001</td></tr><tr><td class = \"rowNumber\" style = \"font-weight: bold; text-align: right;\">9</td><td style = \"text-align: left;\">Otorohanga District</td><td style = \"text-align: left;\">519,134</td></tr><tr><td class = \"rowNumber\" style = \"font-weight: bold; text-align: right;\">10</td><td style = \"text-align: left;\">South Waikato District</td><td style = \"text-align: left;\">426,624</td></tr><tr><td class = \"rowNumber\" style = \"font-weight: bold; text-align: right;\">11</td><td style = \"text-align: left;\">Taupo District</td><td style = \"text-align: left;\">829,769</td></tr><tr><td class = \"rowNumber\" style = \"font-weight: bold; text-align: right;\">12</td><td style = \"text-align: left;\">Waikato District</td><td style = \"text-align: left;\">726,521</td></tr><tr><td class = \"rowNumber\" style = \"font-weight: bold; text-align: right;\">13</td><td style = \"text-align: left;\">Waipa District</td><td style = \"text-align: left;\">871,229</td></tr><tr><td style = \"text-align: right;\">&vellip;</td><td style = \"text-align: right;\">&vellip;</td><td style = \"text-align: right;\">&vellip;</td></tr><tr><td class = \"rowNumber\" style = \"font-weight: bold; text-align: right;\">55</td><td style = \"text-align: left;\">Ashburton District</td><td style = \"text-align: left;\">532,157</td></tr><tr><td class = \"rowNumber\" style = \"font-weight: bold; text-align: right;\">56</td><td style = \"text-align: left;\">Timaru District</td><td style = \"text-align: left;\">500,787</td></tr><tr><td class = \"rowNumber\" style = \"font-weight: bold; text-align: right;\">57</td><td style = \"text-align: left;\">Waimakariri District</td><td style = \"text-align: left;\">697,534</td></tr><tr><td class = \"rowNumber\" style = \"font-weight: bold; text-align: right;\">58</td><td style = \"text-align: left;\">Waimate District</td><td style = \"text-align: left;\">442,382</td></tr><tr><td class = \"rowNumber\" style = \"font-weight: bold; text-align: right;\">59</td><td style = \"text-align: left;\">Waitaki District</td><td style = \"text-align: left;\">467,713</td></tr><tr><td class = \"rowNumber\" style = \"font-weight: bold; text-align: right;\">60</td><td style = \"text-align: left;\">Dunedin City</td><td style = \"text-align: left;\">616,117</td></tr><tr><td class = \"rowNumber\" style = \"font-weight: bold; text-align: right;\">61</td><td style = \"text-align: left;\">Central Otago District</td><td style = \"text-align: left;\">788,144</td></tr><tr><td class = \"rowNumber\" style = \"font-weight: bold; text-align: right;\">62</td><td style = \"text-align: left;\">Clutha District</td><td style = \"text-align: left;\">392,835</td></tr><tr><td class = \"rowNumber\" style = \"font-weight: bold; text-align: right;\">63</td><td style = \"text-align: left;\">Queenstown-Lakes District</td><td style = \"text-align: left;\">1,670,801</td></tr><tr><td class = \"rowNumber\" style = \"font-weight: bold; text-align: right;\">64</td><td style = \"text-align: left;\">Gore District</td><td style = \"text-align: left;\">395,015</td></tr><tr><td class = \"rowNumber\" style = \"font-weight: bold; text-align: right;\">65</td><td style = \"text-align: left;\">Invercargill City</td><td style = \"text-align: left;\">456,153</td></tr><tr><td class = \"rowNumber\" style = \"font-weight: bold; text-align: right;\">66</td><td style = \"text-align: left;\">Southland District</td><td style = \"text-align: left;\">492,354</td></tr></tbody></table></div>"
      ],
      "text/latex": [
       "\\begin{tabular}{r|cc}\n",
       "\t& Territorial\\_Authority & Price\\\\\n",
       "\t\\hline\n",
       "\t& String & String\\\\\n",
       "\t\\hline\n",
       "\t1 & Far North District & 700,402 \\\\\n",
       "\t2 & Whangarei District & 736,658 \\\\\n",
       "\t3 & Kaipara District & 818,262 \\\\\n",
       "\t4 & Auckland & 1,259,185 \\\\\n",
       "\t5 & Thames-Coromandel District & 1,157,623 \\\\\n",
       "\t6 & Hauraki District & 631,049 \\\\\n",
       "\t7 & Hamilton City & 800,437 \\\\\n",
       "\t8 & Matamata-Piako District & 704,001 \\\\\n",
       "\t9 & Otorohanga District & 519,134 \\\\\n",
       "\t10 & South Waikato District & 426,624 \\\\\n",
       "\t11 & Taupo District & 829,769 \\\\\n",
       "\t12 & Waikato District & 726,521 \\\\\n",
       "\t13 & Waipa District & 871,229 \\\\\n",
       "\t14 & Waitomo District & 398,629 \\\\\n",
       "\t15 & Kawerau District & 389,679 \\\\\n",
       "\t16 & Opotiki District & 538,485 \\\\\n",
       "\t17 & Rotorua District & 638,234 \\\\\n",
       "\t18 & Tauranga City & 1,017,984 \\\\\n",
       "\t19 & Western Bay of Plenty District & 976,065 \\\\\n",
       "\t20 & Whakatane District & 728,386 \\\\\n",
       "\t21 & Gisborne District & 589,585 \\\\\n",
       "\t22 & Central Hawke's Bay District & 588,040 \\\\\n",
       "\t23 & Hastings District & 765,170 \\\\\n",
       "\t24 & Napier City & 741,618 \\\\\n",
       "\t25 & Wairoa District & 417,440 \\\\\n",
       "\t26 & New Plymouth District & 714,371 \\\\\n",
       "\t27 & South Taranaki District & 437,608 \\\\\n",
       "\t28 & Stratford District & 471,430 \\\\\n",
       "\t29 & Horowhenua District & 551,960 \\\\\n",
       "\t30 & Manawatu District & 612,575 \\\\\n",
       "\t$\\dots$ & $\\dots$ & $\\dots$ \\\\\n",
       "\\end{tabular}\n"
      ],
      "text/plain": [
       "\u001b[1m66×2 DataFrame\u001b[0m\n",
       "\u001b[1m Row \u001b[0m│\u001b[1m Territorial_Authority      \u001b[0m\u001b[1m Price     \u001b[0m\n",
       "     │\u001b[90m String                     \u001b[0m\u001b[90m String    \u001b[0m\n",
       "─────┼───────────────────────────────────────\n",
       "   1 │ Far North District          700,402\n",
       "   2 │ Whangarei District          736,658\n",
       "   3 │ Kaipara District            818,262\n",
       "   4 │ Auckland                    1,259,185\n",
       "   5 │ Thames-Coromandel District  1,157,623\n",
       "   6 │ Hauraki District            631,049\n",
       "   7 │ Hamilton City               800,437\n",
       "   8 │ Matamata-Piako District     704,001\n",
       "   9 │ Otorohanga District         519,134\n",
       "  10 │ South Waikato District      426,624\n",
       "  11 │ Taupo District              829,769\n",
       "  ⋮  │             ⋮                   ⋮\n",
       "  57 │ Waimakariri District        697,534\n",
       "  58 │ Waimate District            442,382\n",
       "  59 │ Waitaki District            467,713\n",
       "  60 │ Dunedin City                616,117\n",
       "  61 │ Central Otago District      788,144\n",
       "  62 │ Clutha District             392,835\n",
       "  63 │ Queenstown-Lakes District   1,670,801\n",
       "  64 │ Gore District               395,015\n",
       "  65 │ Invercargill City           456,153\n",
       "  66 │ Southland District          492,354\n",
       "\u001b[36m                              45 rows omitted\u001b[0m"
      ]
     },
     "execution_count": 6,
     "metadata": {},
     "output_type": "execute_result"
    }
   ],
   "source": [
    "# Delete the first row by skipping it\n",
    "houseprice = houseprice[axes(houseprice, 1) .!= 1, :]"
   ]
  },
  {
   "cell_type": "code",
   "execution_count": 7,
   "id": "1a31503d-689c-44ae-b8f3-a626a59efeb7",
   "metadata": {
    "tags": []
   },
   "outputs": [
    {
     "data": {
      "text/html": [
       "<div><div style = \"float: left;\"><span>66×2 DataFrame</span></div><div style = \"float: right;\"><span style = \"font-style: italic;\">41 rows omitted</span></div><div style = \"clear: both;\"></div></div><div class = \"data-frame\" style = \"overflow-x: scroll;\"><table class = \"data-frame\" style = \"margin-bottom: 6px;\"><thead><tr class = \"header\"><th class = \"rowNumber\" style = \"font-weight: bold; text-align: right;\">Row</th><th style = \"text-align: left;\">Territorial_Authority</th><th style = \"text-align: left;\">Price</th></tr><tr class = \"subheader headerLastRow\"><th class = \"rowNumber\" style = \"font-weight: bold; text-align: right;\"></th><th title = \"String\" style = \"text-align: left;\">String</th><th title = \"Int64\" style = \"text-align: left;\">Int64</th></tr></thead><tbody><tr><td class = \"rowNumber\" style = \"font-weight: bold; text-align: right;\">1</td><td style = \"text-align: left;\">Far North District</td><td style = \"text-align: right;\">700402</td></tr><tr><td class = \"rowNumber\" style = \"font-weight: bold; text-align: right;\">2</td><td style = \"text-align: left;\">Whangarei District</td><td style = \"text-align: right;\">736658</td></tr><tr><td class = \"rowNumber\" style = \"font-weight: bold; text-align: right;\">3</td><td style = \"text-align: left;\">Kaipara District</td><td style = \"text-align: right;\">818262</td></tr><tr><td class = \"rowNumber\" style = \"font-weight: bold; text-align: right;\">4</td><td style = \"text-align: left;\">Auckland</td><td style = \"text-align: right;\">1259185</td></tr><tr><td class = \"rowNumber\" style = \"font-weight: bold; text-align: right;\">5</td><td style = \"text-align: left;\">Thames-Coromandel District</td><td style = \"text-align: right;\">1157623</td></tr><tr><td class = \"rowNumber\" style = \"font-weight: bold; text-align: right;\">6</td><td style = \"text-align: left;\">Hauraki District</td><td style = \"text-align: right;\">631049</td></tr><tr><td class = \"rowNumber\" style = \"font-weight: bold; text-align: right;\">7</td><td style = \"text-align: left;\">Hamilton City</td><td style = \"text-align: right;\">800437</td></tr><tr><td class = \"rowNumber\" style = \"font-weight: bold; text-align: right;\">8</td><td style = \"text-align: left;\">Matamata-Piako District</td><td style = \"text-align: right;\">704001</td></tr><tr><td class = \"rowNumber\" style = \"font-weight: bold; text-align: right;\">9</td><td style = \"text-align: left;\">Otorohanga District</td><td style = \"text-align: right;\">519134</td></tr><tr><td class = \"rowNumber\" style = \"font-weight: bold; text-align: right;\">10</td><td style = \"text-align: left;\">South Waikato District</td><td style = \"text-align: right;\">426624</td></tr><tr><td class = \"rowNumber\" style = \"font-weight: bold; text-align: right;\">11</td><td style = \"text-align: left;\">Taupo District</td><td style = \"text-align: right;\">829769</td></tr><tr><td class = \"rowNumber\" style = \"font-weight: bold; text-align: right;\">12</td><td style = \"text-align: left;\">Waikato District</td><td style = \"text-align: right;\">726521</td></tr><tr><td class = \"rowNumber\" style = \"font-weight: bold; text-align: right;\">13</td><td style = \"text-align: left;\">Waipa District</td><td style = \"text-align: right;\">871229</td></tr><tr><td style = \"text-align: right;\">&vellip;</td><td style = \"text-align: right;\">&vellip;</td><td style = \"text-align: right;\">&vellip;</td></tr><tr><td class = \"rowNumber\" style = \"font-weight: bold; text-align: right;\">55</td><td style = \"text-align: left;\">Ashburton District</td><td style = \"text-align: right;\">532157</td></tr><tr><td class = \"rowNumber\" style = \"font-weight: bold; text-align: right;\">56</td><td style = \"text-align: left;\">Timaru District</td><td style = \"text-align: right;\">500787</td></tr><tr><td class = \"rowNumber\" style = \"font-weight: bold; text-align: right;\">57</td><td style = \"text-align: left;\">Waimakariri District</td><td style = \"text-align: right;\">697534</td></tr><tr><td class = \"rowNumber\" style = \"font-weight: bold; text-align: right;\">58</td><td style = \"text-align: left;\">Waimate District</td><td style = \"text-align: right;\">442382</td></tr><tr><td class = \"rowNumber\" style = \"font-weight: bold; text-align: right;\">59</td><td style = \"text-align: left;\">Waitaki District</td><td style = \"text-align: right;\">467713</td></tr><tr><td class = \"rowNumber\" style = \"font-weight: bold; text-align: right;\">60</td><td style = \"text-align: left;\">Dunedin City</td><td style = \"text-align: right;\">616117</td></tr><tr><td class = \"rowNumber\" style = \"font-weight: bold; text-align: right;\">61</td><td style = \"text-align: left;\">Central Otago District</td><td style = \"text-align: right;\">788144</td></tr><tr><td class = \"rowNumber\" style = \"font-weight: bold; text-align: right;\">62</td><td style = \"text-align: left;\">Clutha District</td><td style = \"text-align: right;\">392835</td></tr><tr><td class = \"rowNumber\" style = \"font-weight: bold; text-align: right;\">63</td><td style = \"text-align: left;\">Queenstown-Lakes District</td><td style = \"text-align: right;\">1670801</td></tr><tr><td class = \"rowNumber\" style = \"font-weight: bold; text-align: right;\">64</td><td style = \"text-align: left;\">Gore District</td><td style = \"text-align: right;\">395015</td></tr><tr><td class = \"rowNumber\" style = \"font-weight: bold; text-align: right;\">65</td><td style = \"text-align: left;\">Invercargill City</td><td style = \"text-align: right;\">456153</td></tr><tr><td class = \"rowNumber\" style = \"font-weight: bold; text-align: right;\">66</td><td style = \"text-align: left;\">Southland District</td><td style = \"text-align: right;\">492354</td></tr></tbody></table></div>"
      ],
      "text/latex": [
       "\\begin{tabular}{r|cc}\n",
       "\t& Territorial\\_Authority & Price\\\\\n",
       "\t\\hline\n",
       "\t& String & Int64\\\\\n",
       "\t\\hline\n",
       "\t1 & Far North District & 700402 \\\\\n",
       "\t2 & Whangarei District & 736658 \\\\\n",
       "\t3 & Kaipara District & 818262 \\\\\n",
       "\t4 & Auckland & 1259185 \\\\\n",
       "\t5 & Thames-Coromandel District & 1157623 \\\\\n",
       "\t6 & Hauraki District & 631049 \\\\\n",
       "\t7 & Hamilton City & 800437 \\\\\n",
       "\t8 & Matamata-Piako District & 704001 \\\\\n",
       "\t9 & Otorohanga District & 519134 \\\\\n",
       "\t10 & South Waikato District & 426624 \\\\\n",
       "\t11 & Taupo District & 829769 \\\\\n",
       "\t12 & Waikato District & 726521 \\\\\n",
       "\t13 & Waipa District & 871229 \\\\\n",
       "\t14 & Waitomo District & 398629 \\\\\n",
       "\t15 & Kawerau District & 389679 \\\\\n",
       "\t16 & Opotiki District & 538485 \\\\\n",
       "\t17 & Rotorua District & 638234 \\\\\n",
       "\t18 & Tauranga City & 1017984 \\\\\n",
       "\t19 & Western Bay of Plenty District & 976065 \\\\\n",
       "\t20 & Whakatane District & 728386 \\\\\n",
       "\t21 & Gisborne District & 589585 \\\\\n",
       "\t22 & Central Hawke's Bay District & 588040 \\\\\n",
       "\t23 & Hastings District & 765170 \\\\\n",
       "\t24 & Napier City & 741618 \\\\\n",
       "\t25 & Wairoa District & 417440 \\\\\n",
       "\t26 & New Plymouth District & 714371 \\\\\n",
       "\t27 & South Taranaki District & 437608 \\\\\n",
       "\t28 & Stratford District & 471430 \\\\\n",
       "\t29 & Horowhenua District & 551960 \\\\\n",
       "\t30 & Manawatu District & 612575 \\\\\n",
       "\t$\\dots$ & $\\dots$ & $\\dots$ \\\\\n",
       "\\end{tabular}\n"
      ],
      "text/plain": [
       "\u001b[1m66×2 DataFrame\u001b[0m\n",
       "\u001b[1m Row \u001b[0m│\u001b[1m Territorial_Authority      \u001b[0m\u001b[1m Price   \u001b[0m\n",
       "     │\u001b[90m String                     \u001b[0m\u001b[90m Int64   \u001b[0m\n",
       "─────┼─────────────────────────────────────\n",
       "   1 │ Far North District           700402\n",
       "   2 │ Whangarei District           736658\n",
       "   3 │ Kaipara District             818262\n",
       "   4 │ Auckland                    1259185\n",
       "   5 │ Thames-Coromandel District  1157623\n",
       "   6 │ Hauraki District             631049\n",
       "   7 │ Hamilton City                800437\n",
       "   8 │ Matamata-Piako District      704001\n",
       "   9 │ Otorohanga District          519134\n",
       "  10 │ South Waikato District       426624\n",
       "  11 │ Taupo District               829769\n",
       "  ⋮  │             ⋮                  ⋮\n",
       "  57 │ Waimakariri District         697534\n",
       "  58 │ Waimate District             442382\n",
       "  59 │ Waitaki District             467713\n",
       "  60 │ Dunedin City                 616117\n",
       "  61 │ Central Otago District       788144\n",
       "  62 │ Clutha District              392835\n",
       "  63 │ Queenstown-Lakes District   1670801\n",
       "  64 │ Gore District                395015\n",
       "  65 │ Invercargill City            456153\n",
       "  66 │ Southland District           492354\n",
       "\u001b[36m                            45 rows omitted\u001b[0m"
      ]
     },
     "execution_count": 7,
     "metadata": {},
     "output_type": "execute_result"
    }
   ],
   "source": [
    "# Remove commas from the \"Price\" column strings and convert to integer\n",
    "houseprice[!, :Price] = parse.(Int, replace.(string.(houseprice[!, :Price]), \",\" => \"\"))\n",
    "houseprice\n"
   ]
  },
  {
   "cell_type": "code",
   "execution_count": 8,
   "id": "e706f76e-4af9-49a7-9c42-d2682c25fee4",
   "metadata": {
    "tags": []
   },
   "outputs": [
    {
     "data": {
      "text/plain": [
       "\"housedata.csv\""
      ]
     },
     "execution_count": 8,
     "metadata": {},
     "output_type": "execute_result"
    }
   ],
   "source": [
    "# Select only the \"Territorial_Authority\" and \"Price\" columns\n",
    "selected_columns = houseprice[:, [:Territorial_Authority, :Price]]\n",
    "\n",
    "# Write the selected columns to a new CSV file\n",
    "CSV.write(\"housedata.csv\", selected_columns)"
   ]
  },
  {
   "cell_type": "code",
   "execution_count": null,
   "id": "74c300a6-5c68-48d0-adc2-14e245e8d9bf",
   "metadata": {},
   "outputs": [],
   "source": []
  }
 ],
 "metadata": {
  "kernelspec": {
   "display_name": "Julia 1.9.2",
   "language": "julia",
   "name": "julia-1.9"
  },
  "language_info": {
   "file_extension": ".jl",
   "mimetype": "application/julia",
   "name": "julia",
   "version": "1.9.2"
  }
 },
 "nbformat": 4,
 "nbformat_minor": 5
}
